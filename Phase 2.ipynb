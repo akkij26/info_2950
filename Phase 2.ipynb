{
 "cells": [
  {
   "cell_type": "markdown",
   "id": "eeda6fea",
   "metadata": {},
   "source": [
    "# Phase 2"
   ]
  },
  {
   "cell_type": "markdown",
   "id": "6c57fe55",
   "metadata": {},
   "source": [
    "Group Members: Elida Met-Hoxha (em744), Akanksha Sarkar (as2637), Camila Orr (ceo55)\n",
    "\n",
    "**Research Question:** Where are the best locations for windmill placement in the United States?\n",
    "For some context, we plan to define \"best\" given certain categories that not only make windmill placement lucrative (ie large generation of energy) but also physically, the windmill placement makes sense. The factors may include things like wind speed, land topography and geology, grid structure and distance (ie how much land is available for storage or generated energy), turbine size (ie site dependent specifications), and other economic/environmental factors. We may not necessarily consider all these factors in our final project, or perhaps we may consider something not even mentioned here. More context to be established as the project progresses and we have done more research on the subject."
   ]
  },
  {
   "cell_type": "markdown",
   "id": "1eb1428f",
   "metadata": {},
   "source": [
    "## Datasets and Cleaning"
   ]
  },
  {
   "cell_type": "markdown",
   "id": "aa9c225b",
   "metadata": {},
   "source": [
    "Here, we first list links to the datasets that we used for phase 2. This includes most of our data collection and its associated cleaning, though, as we mentioned earlier, we are still accruing more data as we learn more about this subject and also as our data teaches us more about the limitations of our own question.\n",
    "\n",
    "Then, we clean up some of these sets to show some preliminary summary statistics based on these datasets. "
   ]
  },
  {
   "cell_type": "markdown",
   "id": "b3a68f2c",
   "metadata": {},
   "source": [
    "**Datasets_1:** These include data from IRENASTAT Online Data Query Tool: https://www.irena.org/Statistics. First, we visualize how energy generation via wind has changed in the US in the past 20 years.  "
   ]
  },
  {
   "cell_type": "code",
   "execution_count": 7,
   "id": "97a67ea4",
   "metadata": {},
   "outputs": [
    {
     "name": "stdout",
     "output_type": "stream",
     "text": [
      "The sql extension is already loaded. To reload it, use:\n",
      "  %reload_ext sql\n"
     ]
    }
   ],
   "source": [
    "import numpy as np\n",
    "import seaborn as sns\n",
    "import pandas as pd\n",
    "import matplotlib.pyplot as plt\n",
    "import sklearn\n",
    "import seaborn\n",
    "from matplotlib import pyplot as plt\n",
    "\n",
    "import duckdb, sqlalchemy\n",
    "\n",
    "%load_ext sql\n",
    "\n",
    "%config SqlMagic.autopandas = True\n",
    "%config SqlMagic.feedback = False\n",
    "%config SqlMagic.displaycon = False\n",
    "\n",
    "%sql duckdb:///:memory:"
   ]
  },
  {
   "cell_type": "code",
   "execution_count": 8,
   "id": "272228c3",
   "metadata": {},
   "outputs": [
    {
     "data": {
      "image/png": "[encoded data removed]",
      "text/plain": [
       "<Figure size 432x288 with 1 Axes>"
      ]
     },
     "metadata": {
      "needs_background": "light"
     },
     "output_type": "display_data"
    }
   ],
   "source": [
    "us_wind_df = pd.read_csv(\"us_annual_wind.csv\")\n",
    "year = us_wind_df.iloc[1, :].reset_index(drop=True).squeeze()[2:].reset_index(drop=True).astype(float)\n",
    "energy = us_wind_df.iloc[2, :].reset_index(drop=True).squeeze()[2:].reset_index(drop=True).astype(float)\n",
    "new_df = pd.DataFrame()\n",
    "new_df['year'] = year\n",
    "new_df['energy'] = energy\n",
    "\n",
    "\n",
    "new_df\n",
    "seaborn.lineplot(data = new_df , x = 'year', y = 'energy')\n",
    "plt.xticks(rotation=60)\n",
    "plt.show()\n",
    "#change the year to datetime"
   ]
  },
  {
   "cell_type": "markdown",
   "id": "1247e095",
   "metadata": {},
   "source": [
    "**Dataset_2:** https://maps.nrel.gov/?da=wind-prospector#/?aL=wbDr04%255Bv%255D%3Dt&bL=groad&cE=0&lR=0&mC=41.80407814427234%2C-95.361328125&zL=4"
   ]
  },
  {
   "cell_type": "code",
   "execution_count": null,
   "id": "08192227",
   "metadata": {},
   "outputs": [],
   "source": []
  }
 ],
 "metadata": {
  "kernelspec": {
   "display_name": "Python 3 (ipykernel)",
   "language": "python",
   "name": "python3"
  },
  "language_info": {
   "codemirror_mode": {
    "name": "ipython",
    "version": 3
   },
   "file_extension": ".py",
   "mimetype": "text/x-python",
   "name": "python",
   "nbconvert_exporter": "python",
   "pygments_lexer": "ipython3",
   "version": "3.9.12"
  }
 },
 "nbformat": 4,
 "nbformat_minor": 5
}
