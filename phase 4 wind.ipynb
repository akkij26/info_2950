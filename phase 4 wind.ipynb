{
 "cells": [
  {
   "cell_type": "markdown",
   "id": "2e386863",
   "metadata": {},
   "source": [
    "# Phase 2\n",
    "\n",
    "link to our github repository: https://github.com/akkij26/info_2950"
   ]
  },
  {
   "cell_type": "markdown",
   "id": "eff27859",
   "metadata": {},
   "source": [
    "### Disclaimer\n",
    "\n",
    "*Our research focus/question changed drastically during the phase 2 process. We did some initial cleaning and analysis on our preliminary data, but eventually decided to refocus our attention. We had some data on renewable energy generation in the US that we were planning on using simply to contextualize our initial question, which dealt primarily with placement of windmills so as to generate the most amount of energy while also being considerate of other social, environmental, and economic factors. As we progressed in our research, however, we decided that refocusing our question would require more data on energy usage and production (and via what source), so we went looking for better datasets. While we did find better datasets eventually and we understand that this is simply part of the process, we wanted to acknowledge some of the work that did go into phase 2 but which will, more likely than not, be scrapped in the final phase of this project. As such, we keep that preliminary work in this notebook, but we are sure to note explicitely which datasets we will probably not be using in future.*"
   ]
  },
  {
   "cell_type": "markdown",
   "id": "a51977d2",
   "metadata": {},
   "source": [
    "<a id=’introduction’></a>\n",
    "## Introduction"
   ]
  },
  {
   "cell_type": "markdown",
   "id": "e72a67f6",
   "metadata": {},
   "source": [
    "The 2022 global energy crisis began shortly after the Covid-19 pandemic in 2021, which has affected quite literally everyone. We observe it everyday - increased gas prices, headlines about oil exports, etc. This crisis is not limited to the energy industry but is bound to have a domino effect on other sectors like the food sector, labor industry and all possible parts of the economy. We are staring at a global shortage which must be addressed. Moreover, the use of fossil fuels will have to hit a decline in the coming years, not only due to remaining quantity, but also because of its negative and cyclical effects upon the environment. We got interested in the energy sector mainly because of the dire effects it can have if we do not deal with its ever increasing consumption demands, but also with the deleterious consequences of no changes being made in our current energy consumption/production. We are therefore interested in understanding how well equipped we are to deal with this predicted global shortage. We also wish to propose alternatives in terms of renewable energy and in doing so plan on analyzing different energy sources to find the most optimal switch while remaining economically sound. \n",
    "\n",
    "Throughout the process of Phase II we were continuously iterating on our research question to try to find something that was interesting, while also unique. Through our research questions listed below, we hope to estimate and forecast the emerging gap between energy production and consumption and find the most efficient transition to renewable sources instead to fulfill this gap. \n",
    "\n"
   ]
  },
  {
   "cell_type": "markdown",
   "id": "552dbd0b",
   "metadata": {},
   "source": [
    "### Research Question(s):\n",
    "\n",
    "Can we predict US energy consumption and production by type (ie renewable, fossil fuels) in the next 30 years? And if so, what do these predictions tell us about energy needs and the US's ability to meet those demands?\n",
    "\n",
    "Given a host of social, economic, and environmental factors (including variables such as wind speed and distance to an urban area), what are the best locations for windmill placement in the US?\n",
    "\n",
    "Can we predict energy generation from the selected set of windmills? What percent of the demand we explore from analyzing energy consumption and production will that entail?\n",
    "\n",
    "What other recommendations can we make for future energy considerations in the US?\n"
   ]
  },
  {
   "cell_type": "markdown",
   "id": "bf87d413",
   "metadata": {},
   "source": [
    "<a id=’section_1’></a>\n",
    "## Dataset Description "
   ]
  },
  {
   "cell_type": "markdown",
   "id": "cf26ea9b",
   "metadata": {},
   "source": [
    "**Dataset 1 and Dataset 2 (Consumption and Production)**\n",
    "\n",
    "The datasets consumption_df and production_df have been taken from  EIA annual energy review, and they detail US energy production and consumption (https://ourworldindata.org/fossil-fuels) from 1973-June 2022. The values are given in units of quadrillion BTU. The dataset itself uses different sources (BP Statistical Review of World Energy, The Shift Project (TSP), IEA – International Energy Agency, Energy Information Administration, World Development Indicators – World Bank). We looked into the data sources to find that some are either US government agencies or cooperatives of different shareholders. Most of the data collection has been to provide general information to the public and not for a particular project to get a specific result which means we are eliminating the possibility of a biased dataset. \n",
    "\n",
    "We are using this dataset to assess the ability of US energy production sources to meet demands, in order to anticipate production and technology challenges. We plan on doing a comparative study in the growth rate of the two to predict the future shortages or trends depending on what we find in our analysis. Right now there are two different datasets but we will be combining them later on for easier analysis. From a top view, we can see that there is an increase of renewable resources over the years, but then when new methods of fossil fuel production increased, fossil fuel usage increased as well. Our goal is to further analyze the difference in these growth rates. \n",
    "\n",
    "**Dataset 3 (Windmill Dataset)**\n",
    "\n",
    "The dataset ref_df has been taken from the Geospatial Data Science datasets presented by NREL (National Renewable Energy Laboratory). The link can be found here: https://www.nrel.gov/gis/wind-supply-curves.html. The NREL falls under the U.S. Department of Energy and works as a government agency. The purpose of this data collection was to provide general information to the public and create visualizations to understand Geospatial Data and how it varies from place to place. Since this data was not for any particular study, we are eliminating the possibility of a biased dataset. \n",
    "\n",
    "*Reason why we are using wind energy:* After graphing the total renewable energy production graph we can notice that there is an upward trend in most of the renewable energy sources except for Hydroelectric Power Production. On looking closely, we can notice that by the end of 2022, the wind energy production curve had the steepest slope with one of the largest contributions. Therefore, we decided to focus on harnessing this energy resource to find an optimal solution for the future energy requirements.   \n",
    "\n",
    "The dataset provides us with a potential list of areas for windmill placements. The columns include the coordinates of the places (longitude and latitude), the area of the location (area_sq_km), energy generation capabilities (capacity_mw, generation_mwh, capacity_factor), wind speed (wind_speed_120meters), and some information about potentially storing the energy generated (distance_to_transmission_km). We did some initial mappings to find that while the dataset gives us a lot of locations (for context, the dataset initially contained 300,000 rows), not all are practically usable. We plan on considering other factors such as biodiversity considerations, size restrictions for economically sound wind farms, organizational measures, etc to narrow down this list. Our goal is to find the energy demand gap by using the dataset consumption_df and production_df and find the most optimal locations for the windmill placements to fulfill this gap. \n",
    "\n",
    "**Dataset 4 (renewable energy)** \n",
    "\n",
    "We are not going to use this dataset in the final, but the information is subsumed in datasets 1 and 2 so please look above for description. "
   ]
  },
  {
   "cell_type": "markdown",
   "id": "41a5cceb",
   "metadata": {},
   "source": [
    "## Data Limitations"
   ]
  },
  {
   "cell_type": "markdown",
   "id": "3a3aee6f",
   "metadata": {},
   "source": [
    "**Geographic limitations:** Our datasets are focused on energy production and consumption inside the United States. The conclusions may not be generalizable across other regions. \n",
    "\n",
    "**Time period limitations:** Our dataset is between the time period of late 1900s until 2022.\n",
    "\n",
    "**Factor consideration limitations:** We are considering very limited factors which, according to our research, seemed to have high priority. This might not be comprehensive since we are not including monetary restrictions, inflation, other economic considerations, climate and natural disaster prone areas etc.\n",
    "\n",
    "**Social factor consideration limitations:**  We are entering an era of activism for climate change which is causing social changes. This change may not necessarily be measurable by the tools we are familiar with by now and hence are excluded from our model.\n",
    "\n",
    "**Assumption limitation:** We are considering consumption to be equal to demand in our analysis which might not always be the case.\n",
    "\n"
   ]
  },
  {
   "cell_type": "markdown",
   "id": "31948191",
   "metadata": {},
   "source": [
    "## Data Cleaning Description\n",
    "\n",
    "Here, we clean the datasets mentioned in [Dataset Description](#section_1) above, and we also explain this process in detail.  "
   ]
  },
  {
   "cell_type": "markdown",
   "id": "f44bd7c1",
   "metadata": {},
   "source": [
    "### Loading Data"
   ]
  },
  {
   "cell_type": "code",
   "execution_count": 1,
   "id": "ed4fc3d9",
   "metadata": {},
   "outputs": [
    {
     "ename": "ModuleNotFoundError",
     "evalue": "No module named 'statsmodels'",
     "output_type": "error",
     "traceback": [
      "\u001b[1;31m---------------------------------------------------------------------------\u001b[0m",
      "\u001b[1;31mModuleNotFoundError\u001b[0m                       Traceback (most recent call last)",
      "Input \u001b[1;32mIn [1]\u001b[0m, in \u001b[0;36m<cell line: 14>\u001b[1;34m()\u001b[0m\n\u001b[0;32m     12\u001b[0m \u001b[38;5;28;01mfrom\u001b[39;00m \u001b[38;5;21;01mscipy\u001b[39;00m\u001b[38;5;21;01m.\u001b[39;00m\u001b[38;5;21;01moptimize\u001b[39;00m \u001b[38;5;28;01mimport\u001b[39;00m curve_fit\n\u001b[0;32m     13\u001b[0m \u001b[38;5;28;01mfrom\u001b[39;00m \u001b[38;5;21;01mscipy\u001b[39;00m \u001b[38;5;28;01mimport\u001b[39;00m stats\n\u001b[1;32m---> 14\u001b[0m \u001b[38;5;28;01mimport\u001b[39;00m \u001b[38;5;21;01mstatsmodels\u001b[39;00m\u001b[38;5;21;01m.\u001b[39;00m\u001b[38;5;21;01mapi\u001b[39;00m \u001b[38;5;28;01mas\u001b[39;00m \u001b[38;5;21;01msm\u001b[39;00m\n\u001b[0;32m     15\u001b[0m \u001b[38;5;28;01mfrom\u001b[39;00m \u001b[38;5;21;01mmatplotlib\u001b[39;00m\u001b[38;5;21;01m.\u001b[39;00m\u001b[38;5;21;01mpyplot\u001b[39;00m \u001b[38;5;28;01mimport\u001b[39;00m figure\n\u001b[0;32m     17\u001b[0m \u001b[38;5;28;01mimport\u001b[39;00m \u001b[38;5;21;01mduckdb\u001b[39;00m\u001b[38;5;241m,\u001b[39m \u001b[38;5;21;01msqlalchemy\u001b[39;00m\n",
      "\u001b[1;31mModuleNotFoundError\u001b[0m: No module named 'statsmodels'"
     ]
    }
   ],
   "source": [
    "import numpy as np\n",
    "import seaborn as sns\n",
    "import pandas as pd\n",
    "import matplotlib.pyplot as plt\n",
    "import sklearn\n",
    "import seaborn\n",
    "from matplotlib import pyplot as plt\n",
    "from sklearn.linear_model import LogisticRegression\n",
    "from sklearn.linear_model import LinearRegression\n",
    "from sklearn.preprocessing import PolynomialFeatures\n",
    "from scipy.special import expit as logistic\n",
    "from scipy.optimize import curve_fit\n",
    "from scipy import stats\n",
    "import statsmodels.api as sm\n",
    "from matplotlib.pyplot import figure\n",
    "\n",
    "import duckdb, sqlalchemy\n",
    "\n",
    "from sklearn.model_selection import train_test_split, KFold, cross_val_score\n",
    "from sklearn import metrics\n",
    "from sklearn.metrics import PrecisionRecallDisplay\n",
    "from sklearn.metrics import mean_squared_error, mean_absolute_error, mean_absolute_percentage_error \n",
    "\n",
    "%load_ext sql\n",
    "\n",
    "%config SqlMagic.autopandas = True\n",
    "%config SqlMagic.feedback = False\n",
    "%config SqlMagic.displaycon = False\n",
    "\n",
    "%sql duckdb:///:memory:"
   ]
  },
  {
   "cell_type": "code",
   "execution_count": null,
   "id": "0f7fb59c",
   "metadata": {},
   "outputs": [],
   "source": [
    "#please see above for description of these datasets\n",
    "ref_df = pd.read_csv(\"reference.csv\")\n",
    "consumption_df = pd.read_csv(\"consumption.csv\")\n",
    "production_df = pd.read_csv(\"production.csv\")\n",
    "\n",
    "#this dataset will most likely not be used in final\n",
    "us_total_df = pd.read_csv(\"total_renewable.csv\")"
   ]
  },
  {
   "cell_type": "markdown",
   "id": "6f733d02",
   "metadata": {},
   "source": [
    "### Cleaning Data"
   ]
  },
  {
   "cell_type": "markdown",
   "id": "f14c3fbd",
   "metadata": {},
   "source": [
    "**ref_df:** First, ref_df was in a format that was not hard to parse through. It contains appropriate column titles and all the criteria that we plan on using in identifying ideal windmill placement. We first check the dtypes to ensure that all columns contain float values that we could easily analyze. We also not that the column \"Unnamed: 0\" is simply an identifier that the data collectors used for the separate places that will not serve any purpose in our analysis, so we drop that column. And we change the column title wind_speed_120meters to simply wind_speed.\n",
    "\n",
    "Finally, we show first 5 rows of the cleaned ref_df."
   ]
  },
  {
   "cell_type": "code",
   "execution_count": null,
   "id": "64ce7242",
   "metadata": {},
   "outputs": [],
   "source": [
    "#check ref_df dtypes\n",
    "print(ref_df.dtypes)\n",
    "\n",
    "#drop unneeded first column\n",
    "ref_df = ref_df.drop('Unnamed: 0', axis = 1)\n",
    "\n",
    "#rename wind_speed_120meters column\n",
    "ref_df = ref_df.rename(columns={\"wind_speed_120meters\": \"wind_speed\"})\n",
    "\n",
    "#show first 5 columns of cleaned dataset\n",
    "ref_df.head()"
   ]
  },
  {
   "cell_type": "markdown",
   "id": "8b4f4d1b",
   "metadata": {},
   "source": [
    "**consumption_df and production_df:** For consumption_df and production_df, we did a sql INNER JOIN to make working with the data easier by just having to reference one dataset instead of 2. The column 'Month' for consumption_df and production_df contain the same information so we join on that key and delete duplicates (we got a duplicate for the column 'Month'). The 'Month' column is renamed 'date' since it contains more information than just the month. We then make the 'date' column a datetime object so as to make analysis easier later on. We additionally add a month and year column to our new dataframe as later on, we may want to focus on certain years and/or months. \n",
    "\n",
    "We also check the dtypes attribute of this new dataframe, named *total_df* so as to continue cleaning. "
   ]
  },
  {
   "cell_type": "code",
   "execution_count": null,
   "id": "bd793241",
   "metadata": {},
   "outputs": [],
   "source": [
    "#renaming column 'Month'\n",
    "production_df = production_df.rename(columns={\"Month\": \"date\"})\n",
    "\n",
    "#inner join \n",
    "%sql total_df << SELECT * FROM production_df INNER JOIN consumption_df ON production_df.date = consumption_df.Month  \n",
    "\n",
    "#delete duplicate\n",
    "total_df = total_df.drop('Month', axis = 1)\n",
    "\n",
    "#change 'date' to datetime\n",
    "total_df['date'] = pd.to_datetime(total_df['date'], format = \"%Y %B\")\n",
    "\n",
    "#add month and year columns\n",
    "total_df['year'] = pd.DatetimeIndex(total_df['date']).year\n",
    "total_df['month'] = pd.DatetimeIndex(total_df['date']).month\n",
    "\n",
    "#check dataframe dtypes attribute\n",
    "print(total_df.dtypes)"
   ]
  },
  {
   "cell_type": "markdown",
   "id": "92d8d71b",
   "metadata": {},
   "source": [
    "We note that when checking the dtypes of the dataframe that there are several columns with dtype object, and this is since there are cells with the value 'Not Available.' To prevent difficulty when trying to analyze this data, we change all columns but the date column to float64 and assign NaN (not a number) values to those cells which contain string values, as follows:"
   ]
  },
  {
   "cell_type": "code",
   "execution_count": null,
   "id": "92d4bd11",
   "metadata": {},
   "outputs": [],
   "source": [
    "#making column values float64 where applicable \n",
    "cols = total_df.columns.values  \n",
    "for i in range(1,26):\n",
    "    name = cols[i]\n",
    "    total_df[name] = pd.to_numeric(total_df[name], errors = 'coerce')"
   ]
  },
  {
   "cell_type": "markdown",
   "id": "9f9e6ed3",
   "metadata": {},
   "source": [
    "Finally, we show first 5 rows of the cleaned total_df."
   ]
  },
  {
   "cell_type": "code",
   "execution_count": null,
   "id": "430a8ce2",
   "metadata": {},
   "outputs": [],
   "source": [
    "total_df.head()"
   ]
  },
  {
   "cell_type": "markdown",
   "id": "501663cf",
   "metadata": {},
   "source": [
    "**us_total_df:**\n",
    "*We will most likely not be using this dataset, but since we cleaned and it made some plots of the data, we show that work here.*\n",
    "\n",
    "This dataframe is very messy upon first looking at it. The first 5 rows are shown below for reference. There are unneccessary columns and the titles are contained within a row of the dataframe. There is also a row which does not contain any values within it."
   ]
  },
  {
   "cell_type": "code",
   "execution_count": null,
   "id": "2c2eea70",
   "metadata": {},
   "outputs": [],
   "source": [
    "us_total_df.head()"
   ]
  },
  {
   "cell_type": "markdown",
   "id": "08395e72",
   "metadata": {},
   "source": [
    "As such, we reset all the indices, take the first row and make it the column titles. We drop the row with no values in it, we drop the first column which does not seem to serve any purpose, and we transpose so that we can have years in one column so as to make analysis/plotting easier later on. We make sure every value within the table is a float, and we change the year column into datetime. \n",
    "\n",
    "Finally, the first 5 rows are displayed. "
   ]
  },
  {
   "cell_type": "code",
   "execution_count": null,
   "id": "8854fc77",
   "metadata": {},
   "outputs": [],
   "source": [
    "us_total_df = us_total_df.reset_index(drop = False).drop(labels='level_0', axis=1)\n",
    "index = us_total_df.iloc[0,:].squeeze()[:].reset_index(drop=True)\n",
    "\n",
    "us_total_df.columns.values[::] = index\n",
    "us_total_df = us_total_df.drop(0)\n",
    "us_total_df = us_total_df.transpose().reset_index(drop = False)\n",
    "\n",
    "index_2 = us_total_df.iloc[0,:].squeeze()[:].reset_index(drop=True)\n",
    "us_total_df.columns.values[::] = index_2\n",
    "\n",
    "us_total_df = us_total_df.drop(0)\n",
    "us_total_df = us_total_df.rename(columns={'Technology': 'Year'}).drop(labels= 'Bagasse', axis = 1)\n",
    "\n",
    "cols = us_total_df.columns\n",
    "us_total_df[cols[1:]] = us_total_df[cols[1:]].astype(float)\n",
    "\n",
    "us_total_df['Year'] = pd.to_datetime(us_total_df['Year'], format = \"%Y\")\n",
    "us_total_df['Year'] = pd.DatetimeIndex(us_total_df['Year']).year\n",
    "\n",
    "us_total_df.head()"
   ]
  },
  {
   "cell_type": "markdown",
   "id": "db100885",
   "metadata": {},
   "source": [
    "## Preliminary Analysis"
   ]
  },
  {
   "cell_type": "markdown",
   "id": "a540782c",
   "metadata": {},
   "source": [
    "<a id=’total_df’></a>\n",
    "\n",
    "### Concerning total_df\n",
    "\n",
    "We wanted to build some context at the beginning of our work. As we note in our [Introduction](#introduction), while renewable energy production/consumption are on the rise, we wanted to see these trends over time. Here, we initially plot total fossil fuels production/consumption and total renewable energy production/consumption in the US. Note that the units are Quadrillion BTUs. (Note: we may make a function later so as to make the plotting easier if we wanteed to see a particular source and its trends over time. "
   ]
  },
  {
   "cell_type": "code",
   "execution_count": null,
   "id": "64d788ee",
   "metadata": {},
   "outputs": [],
   "source": [
    "#plotting total fossil fuels production/consumption and total renewable energy production/consumption\n",
    "sns.lineplot(data = total_df, x = 'date', y = 'Total Fossil Fuels Production', label = 'Total Fossil Fuels Production')\n",
    "sns.lineplot(data = total_df, x = 'date', y = 'Total Fossil Fuels Consumption', label = 'Total Fossil Fuels Consumption')\n",
    "sns.lineplot(data = total_df, x = 'date', y = 'Total Renewable Energy Production', label = 'Total Renewable Energy Production')\n",
    "sns.lineplot(data = total_df, x = 'date', y = 'Total Renewable Energy Consumption', label = 'Total Renewable Energy Consumption')\n",
    "\n",
    "plt.title(\"Fossil Fuel and Renewable Energy Production and Consumption Over Time\")\n",
    "plt.xlabel(\"time\")\n",
    "plt.ylabel(\"Quadrillion BTU\")\n",
    " \n",
    "plt.legend(bbox_to_anchor=(1.0, 1.0))\n",
    "plt.show()"
   ]
  },
  {
   "cell_type": "markdown",
   "id": "f1f06619",
   "metadata": {},
   "source": [
    "Here, we see that total renewable energy production/consumption is about equal. We note that fossil fuel consumption is higher than production usually. We also observe that while renewable energy production has been on the rise, fossil fuel production has not necessarily been on a decline. The next two plots make this clearer. We plot total renewable energy production over time, and we plot the curves for different energy source production as well to show an initial visualization how much of that renewable energy production comes form each type. We see that wind has the steepest curve as of late. We also plot simply the rise in total fossil fuels production alone over the years. "
   ]
  },
  {
   "cell_type": "code",
   "execution_count": null,
   "id": "f04897c5",
   "metadata": {},
   "outputs": [],
   "source": [
    "#plotting total renewable energy production as well as wind energy production curve\n",
    "sns.lineplot(data = total_df, x = 'date', y = 'Total Renewable Energy Production', label = 'Total Renewable Energy Production')\n",
    "sns.lineplot(data = total_df, x = 'date', y = 'Wind Energy Production', label = 'Wind Energy Production')\n",
    "sns.lineplot(data = total_df, x = 'date', y = 'Hydroelectric Power Production', label = 'Hydroelectric Power Production')\n",
    "sns.lineplot(data = total_df, x = 'date', y = 'Geothermal Energy Production', label = 'Geothermal Energy Production')\n",
    "sns.lineplot(data = total_df, x = 'date', y = 'Solar Energy Production', label = 'Solar Energy Production')\n",
    "sns.lineplot(data = total_df, x = 'date', y = 'Biomass Energy Production', label = 'Biomass Energy Production')\n",
    "\n",
    "\n",
    "plt.title(\"Renewable Energy Production Over Time\")\n",
    "plt.xlabel(\"time\")\n",
    "plt.ylabel(\"Quadrillion BTU\")\n",
    "plt.legend(bbox_to_anchor=(1.0, 1.0))\n",
    "plt.show()\n",
    "\n",
    "#plotting total fossil fuels production alone over the years\n",
    "sns.lineplot(data = total_df, x = 'date', y = 'Total Fossil Fuels Production')\n",
    "plt.title(\"Fossil Fuels Production Over Time\")\n",
    "plt.xlabel(\"time\")\n",
    "plt.ylabel(\"Quadrillion BTU\")\n",
    "plt.show()"
   ]
  },
  {
   "cell_type": "markdown",
   "id": "6ad91d7f",
   "metadata": {},
   "source": [
    "To make clearer again this large dependence on fossil fuels, we make a pie chart of the most recent year's energy production by type. First, we create a new dataframe containing only data from 2022 and we take the mean of each individual energy type."
   ]
  },
  {
   "cell_type": "code",
   "execution_count": null,
   "id": "7fd254f4",
   "metadata": {},
   "outputs": [],
   "source": [
    "# make a pie chart for 2022 so far \n",
    "%sql energy_2022 << SELECT * FROM total_df WHERE year = 2022\n",
    "col = energy_2022.columns\n",
    "avg_production = pd.DataFrame(energy_2022[col[1:12]].mean(axis=0))\n",
    "avg_production = avg_production.rename(columns={ 0 : \"Amount\"}).drop('Total Fossil Fuels Production')\n",
    "                                                                    \n",
    "avg_production.plot.pie(y='Amount', figsize=(8, 8))\n",
    "plt.legend(bbox_to_anchor=(1.7, 1.0))\n",
    "plt.title(\"2022 US Energy Production by Energy Type\")\n",
    "plt.show"
   ]
  },
  {
   "cell_type": "markdown",
   "id": "3f3bfb7f",
   "metadata": {},
   "source": [
    "We note that the these curves over time look logistic. For this preliminary analysis, let us simply see total renewable energy production over the years (so we take the yearly average to find annual renewable energy production). We plot these points on a scatterplot then overlay a linear curve then an exponential curve. We see that obviously the exponential curve matches better. "
   ]
  },
  {
   "cell_type": "code",
   "execution_count": null,
   "id": "74933b03",
   "metadata": {},
   "outputs": [],
   "source": [
    "annual_df = total_df.iloc[:, [12, 26]].groupby(['year']).mean('Total Renewable Energy Production').reset_index()\n",
    "annual_df\n",
    "\n",
    "x = annual_df['year']\n",
    "y = annual_df['Total Renewable Energy Production']\n",
    "\n",
    "sns.lmplot(data = annual_df, x = 'year', y = 'Total Renewable Energy Production')\n",
    "plt.show()\n",
    "\n",
    "curve = np.polyfit(x, np.log(y), 1)\n",
    "x_new = np.linspace(np.min(x), np.max(x))\n",
    "y_new = np.exp(curve[1]) * np.exp(curve[0] * x_new)\n",
    "\n",
    "sns.scatterplot(data=annual_df, x= x, y= y)\n",
    "plt.plot(x_new, y_new)\n",
    "plt.show()"
   ]
  },
  {
   "cell_type": "markdown",
   "id": "ea367ce6",
   "metadata": {},
   "source": [
    "As we continue, we will want to fit curves such as this one to predict both production and consumption based on past trends. In this way, we would like to anticipate ability to meet demand and forecast production and consumption over some amount of years into the future. Questions arise like will how will production and consumption compare? And then more questions will arise as we consider ref_df."
   ]
  },
  {
   "cell_type": "markdown",
   "id": "d481b2d9",
   "metadata": {},
   "source": [
    "<a id=’ref_df’></a>\n",
    "### Concerning ref_df\n",
    "\n",
    "When it comes to ref_df, we want to come up with an equation or some other type of way to rank the criteria listed in the dataset. If we attach some sort of weight to each factor, we can then make a suggestion for where to best place windmills. Note that the factors contained in ref_df range from distance to an urban area to wind speed to whether land is protected and so on. Eventually, we would like to predict energy generations as well as economic output of what certain suggestions of wind mill placement will generate in the future and what percent of the demand we explore from analyzing total_df that will entail. \n",
    "\n",
    "Since we have yet to come up with our equation/ranking system yet, there is not much preliminary analysis we can do here that would serve much purpose. Instead, we plot the longitudes and latitudes to with the hue of capacity factor in the first map and then available area in km in the second. These will give us a good idea of where the most amount of energy generation would take place given that capacity_factor is electrical energy generated per unit capacity. The second map, however, begins to show us some of the clash between our different criteria in that the places with the largest available areas might not neceassarily always be located at the same longitudes and latitudes. \n",
    "\n",
    "We may plan on adding an actual map of the US underneath this scattering, but for now, it is easy to see the outline of the US without it. "
   ]
  },
  {
   "cell_type": "code",
   "execution_count": null,
   "id": "845b3199",
   "metadata": {},
   "outputs": [],
   "source": [
    "ref_df.plot(x=\"longitude\", y=\"latitude\", kind=\"scatter\", c=\"capacity_factor\", colormap=\"YlGn\", figsize = (12,6))\n",
    "plt.show()"
   ]
  },
  {
   "cell_type": "code",
   "execution_count": null,
   "id": "f589b075",
   "metadata": {},
   "outputs": [],
   "source": [
    "ref_df.plot(x=\"longitude\", y=\"latitude\", kind=\"scatter\", c=\"area_sq_km\", colormap=\"PuBuGn\", figsize = (12,6))\n",
    "plt.show()\n",
    "\n",
    "copy_ref_df = ref_df.copy()"
   ]
  },
  {
   "cell_type": "markdown",
   "id": "75b14a4f",
   "metadata": {},
   "source": [
    "## Acknowledgements\n",
    "\n",
    "*Here, we list any other sites that might have helped us but not included in the links to our datasets:*\n",
    "\n",
    "for color scheme identifiers on maps: \n",
    "https://matplotlib.org/stable/tutorials/colors/colormaps.html\n",
    "\n",
    "for plotting maps:\n",
    "https://pandas.pydata.org/pandas-docs/stable/user_guide/visualization.html\n",
    "\n",
    "for some questions on datetime:\n",
    "https://dataindependent.com/pandas/pandas-to-datetime-string-to-date-pd-to_datetime/\n",
    "\n",
    "for how to make a pie plot:\n",
    "https://pandas.pydata.org/docs/reference/api/pandas.DataFrame.plot.pie.html"
   ]
  },
  {
   "cell_type": "markdown",
   "id": "749daef8",
   "metadata": {},
   "source": [
    "Thanks for reading!"
   ]
  },
  {
   "cell_type": "markdown",
   "id": "2a11ccba",
   "metadata": {},
   "source": [
    "# Phase 3"
   ]
  },
  {
   "cell_type": "markdown",
   "id": "663f87b9",
   "metadata": {},
   "source": [
    "## Building a Forecasting Model for Renewable Energy Production\n",
    "\n",
    "**MODEL 1**\n",
    "\n",
    "First, let's try some naive fitting. Using PolynomialFeatures, we are going to fit our data and run a regression on those transformed x-values. We will do a train/test split, being careful since this is time-series. Finally, we will predict the next 30 years of renewable energy production. "
   ]
  },
  {
   "cell_type": "code",
   "execution_count": null,
   "id": "912a84b4",
   "metadata": {},
   "outputs": [],
   "source": [
    "x = pd.array(annual_df['year'])\n",
    "y = pd.array(annual_df['Total Renewable Energy Production'])\n",
    "\n",
    "poly = PolynomialFeatures(degree=3, include_bias=False)\n",
    "x1 = poly.fit_transform(x.reshape(-1,1))\n",
    "\n",
    "test_size = 10\n",
    "\n",
    "#since is time-series, have to split differently. \n",
    "x_train = x1[:-test_size]\n",
    "y_train = annual_df['Total Renewable Energy Production'][:-test_size]\n",
    "x_test = x1[-test_size:]\n",
    "y_test = annual_df['Total Renewable Energy Production'][-test_size:]\n",
    "\n",
    "model_1 = LinearRegression().fit(x_train, y_train)\n",
    "predictions_train = model_1.predict(x_train)\n",
    "predictions_test = model_1.predict(x_test)\n",
    "\n",
    "plt.scatter(x, y, label = \"data\")\n",
    "plt.plot(x[:-test_size], predictions_train, c=\"red\", label = \"train fit\")\n",
    "plt.plot(x[-test_size:], predictions_test, c = \"green\", label = \"test fit\")\n",
    "plt.legend(loc='best')\n",
    "plt.show()\n",
    "\n",
    "mse_train = mean_squared_error(y_train, predictions_train)\n",
    "mse_test = mean_squared_error(y_test, predictions_test)\n",
    "mae_train = mean_absolute_error(y_train, predictions_train)\n",
    "mae_test = mean_absolute_error(y_test, predictions_test)\n",
    "    \n",
    "print('\\ncoef = ', model_1.coef_, '\\nintercept = ', model_1.intercept_, '\\ntrain RMSE = ', np.sqrt(mse_train),\\\n",
    "        '\\ntest RMSE = ', np.sqrt(mse_test), '\\ntrain MAE = ', mae_train,'\\ntest MAE = ', mae_test)\n",
    "\n",
    "model = LinearRegression().fit(x1, y)\n",
    "y_predicted = model.predict(x1)\n",
    "\n",
    "years = np.linspace(2022, 2052, 31)\n",
    "years_res = poly.fit_transform(years.reshape(-1,1))\n",
    "new_pred = model.predict(years_res)\n",
    "\n",
    "plt.plot(x, y_predicted, c=\"red\", label = \"fit\")\n",
    "plt.plot(years, new_pred, c = \"green\", label = \"future predictions\")\n",
    "plt.legend(loc='best')\n",
    "plt.show()\n",
    "\n",
    "future_df = pd.DataFrame([])\n",
    "future_df['year'] = years\n",
    "future_df['Total Renewable Energy Production'] = new_pred\n",
    "total_df = pd.concat([annual_df, future_df])\n",
    "\n",
    "x_up = x1.tolist()\n",
    "y_up = y.tolist()\n",
    "x_up = sm.add_constant(x_up)\n",
    " \n",
    "result = sm.OLS(y_up, x_up).fit()\n",
    "print(result.summary())"
   ]
  },
  {
   "cell_type": "markdown",
   "id": "ea71388c",
   "metadata": {},
   "source": [
    "We can see that perhaps we are over-fitting the date because of our RMSE scores. Instead, let us try to fit the data with a logistic transformation. We'll see that this also does not work well, right off the bat visually."
   ]
  },
  {
   "cell_type": "markdown",
   "id": "15a5408e",
   "metadata": {},
   "source": [
    "Now, we try to fit to a simple s-curve and make more predictions."
   ]
  },
  {
   "cell_type": "code",
   "execution_count": null,
   "id": "4a6db3cd",
   "metadata": {},
   "outputs": [],
   "source": [
    "x = pd.array(total_df['year'])\n",
    "y = pd.array(total_df['Total Renewable Energy Production'])\n",
    "\n",
    "def fourPL(x, A, B, C, D):\n",
    "    return ((A-D)/(1.0+((x/C)**(B))) + D)\n",
    "\n",
    "def PL4_pred (x):\n",
    "    y_pred = ((A-D)/(1.0+((x/C)**(B))) + D)\n",
    "    return y_pred\n",
    "\n",
    "guess = [min(y), np.median(x), 2030 , max(y)] \n",
    "params, params_covariance = curve_fit(fourPL, x, y, guess)\n",
    "\n",
    "A = params[0]\n",
    "B = params[1]\n",
    "C = params[2]\n",
    "D = params[3]\n",
    "\n",
    "upy = np.linspace(2052, 2080, 29)\n",
    "new_y_vals_3 = np.zeros(29)\n",
    "for i in range(29):\n",
    "    out = PL4_pred(upy[i])\n",
    "    new_y_vals_3[i] = out\n",
    "\n",
    "y_nnn = fourPL(x, *params)\n",
    "#plt.plot(x, y, 'o', label='data')\n",
    "plt.plot(x,y_nnn, label='fit')\n",
    "plt.plot(upy, new_y_vals_3, label = 'predictions')\n",
    "plt.legend(loc='best')\n",
    "plt.show()"
   ]
  },
  {
   "cell_type": "code",
   "execution_count": null,
   "id": "c1d8bd03",
   "metadata": {},
   "outputs": [],
   "source": [
    "# evaluation of significance \n",
    "#coef_df = np.zeros(1000)\n",
    "#for i in range(1000):\n",
    "#    sample_df = new_tot.sample(n = new_tot.shape[0], replace = True)\n",
    "#    model = LinearRegression().fit(sample_df[['year']], sample_df[['energy']])\n",
    "#    coef_df[i] = model.coef_[0][0]\n",
    "\n",
    "#plt.hist(coef_df) \n",
    "#plt.show()\n",
    "\n",
    "\n",
    "coef_df = np.zeros(1000)\n",
    "for i in range(1000):\n",
    "    sample_df = annual_df.sample(n = annual_df.shape[0], replace = True)\n",
    "    model = LinearRegression().fit(sample_df[['year']], sample_df[['Total Renewable Energy Production']])\n",
    "    coef_df[i] = model.coef_[0][0]\n",
    "\n",
    "plt.hist(coef_df) \n",
    "plt.show()"
   ]
  },
  {
   "cell_type": "code",
   "execution_count": null,
   "id": "17d0e007",
   "metadata": {},
   "outputs": [],
   "source": [
    "#new_tot = pd.DataFrame([])\n",
    "#year = np.zeros(150)\n",
    "#energy = np.zeros(150)\n",
    "\n",
    "#j = 0\n",
    "#i = 0\n",
    "#for i in range(50):\n",
    " #   year[i] = x1[j][0]\n",
    " #   year[i+1] = x1[j][1]\n",
    " #   year[i+2] = x1[j][2]\n",
    " #   energy[i] = annual_df['Total Renewable Energy Production'][j]\n",
    " #   energy[i+1] = annual_df['Total Renewable Energy Production'][j]\n",
    " #   energy[i+2] = annual_df['Total Renewable Energy Production'][j]\n",
    " #   j+=1\n",
    "  #  i+=3\n",
    "  #  if j%50 == 0:\n",
    "  #      j = 0\n",
    "  \n",
    "#new_tot['year'] = year\n",
    "#new_tot['energy'] = energy\n",
    "#new_tot\n",
    "#coef_1[0:30]\n",
    "#coef_1  = new_tot.iloc[::3, :]\n",
    "#coef_1.head()"
   ]
  },
  {
   "cell_type": "markdown",
   "id": "b86d246b",
   "metadata": {},
   "source": [
    "# Finding Optimal positions for Windmill Placement"
   ]
  },
  {
   "cell_type": "markdown",
   "id": "3c8ec884",
   "metadata": {},
   "source": [
    "In this next part of our project, we will be focusing on predicting the best positions for windmill placement to cover the energy gap predicted by our models in the next 30 years. \n",
    "<br> \n",
    "\n",
    "Below is the dataset we started working with: "
   ]
  },
  {
   "cell_type": "code",
   "execution_count": null,
   "id": "04e92d64",
   "metadata": {},
   "outputs": [],
   "source": [
    "ref_df"
   ]
  },
  {
   "cell_type": "markdown",
   "id": "7c3ed2c2",
   "metadata": {},
   "source": [
    "We have divided the parameters used to judge the likelihood of a certain area being a potentially good location for a windmill farm into 3 broad categories: \n",
    " \n",
    "1. Efficiency Based Parameters \n",
    "2. Location Based Parameters\n",
    "3. Monetary based Parameters "
   ]
  },
  {
   "cell_type": "markdown",
   "id": "1d0b6f0d",
   "metadata": {},
   "source": [
    "### Efficiency Based Parameters\n",
    "<br>\n",
    "One of our main considerations is what is the expected capacity factor of the wind turbine placed at a ceratin location. \n",
    "Capacity factor refers of a wind turbine is its average power output divided by its maximum power capability. In essence, it is a measure of predicted performance. For a wind turbine, the maximum possible output would be the capacity x 8760 hr (there are 8760 hrs in a year). \n",
    "<br> \n",
    "\n",
    "Capacity factor of land based wind in the U.S. ranges from 24% to 56% and averages of 36%. (Stats have been taken from University of Michigan's center of Sustainable system) The histogram below shows the distribution of the capacity factor in our dataset."
   ]
  },
  {
   "cell_type": "code",
   "execution_count": null,
   "id": "5bb71506",
   "metadata": {},
   "outputs": [],
   "source": [
    "ref_df.hist(column = 'capacity_factor', bins = 7)\n",
    "plt.show()"
   ]
  },
  {
   "cell_type": "code",
   "execution_count": null,
   "id": "8647c801",
   "metadata": {},
   "outputs": [],
   "source": [
    "#Akanksha_to_elida: not sure what this part is doing? did you want to show a correlation between these two? \n",
    "plt.scatter(data = ref_df, x = 'capacity_factor', y = 'distance_to_transmission_km')\n",
    "plt.title(\"Capacity Factor Over Distance to Transmission\")\n",
    "plt.xlabel(\"Capacity Factor\")\n",
    "plt.ylabel(\"Distance to Transmission (km) \")\n",
    "plt.show()"
   ]
  },
  {
   "cell_type": "markdown",
   "id": "bf34fb0c",
   "metadata": {},
   "source": [
    "According to our research, it seems to be economically viable to have a wind turbine whose capacity factor lies somewhere between 30% to 60%. This covers our average and makes sure we are not wasting our resources and getting somewhat of a practical Return on Investment. After putting this restriction, we have done some of our inital filtering with our potential options coming down to _____ from ________. "
   ]
  },
  {
   "cell_type": "markdown",
   "id": "a68e5724",
   "metadata": {},
   "source": [
    "######### potential idea???? want to explore??? \n",
    "can probably do linear programming on this problem."
   ]
  },
  {
   "cell_type": "code",
   "execution_count": null,
   "id": "83970171",
   "metadata": {},
   "outputs": [],
   "source": [
    "ref_df.drop(ref_df[ref_df['capacity_factor'] < 0.3].index, inplace = True)\n",
    "ref_df.shape"
   ]
  },
  {
   "cell_type": "markdown",
   "id": "aa5a8255",
   "metadata": {},
   "source": [
    "### Location based Parameter \n",
    "\n",
    "#### Annual Average Wind\n",
    "Given the setup of a windmill, we in general are looking for area with Annual average wind speed of at least 9 miles per hour (mph)—or 4 meters per second (m/s)—for small wind turbines and 13 mph (5.8 m/s) for utility-scale turbines. This is the floor for consideration as a potential area. \n",
    "<br> \n",
    "\n",
    "#### Distance from obstacle \n",
    "Furthermore, we want to look at the geographical area around the windmill. The optimal physical location would be a plain terrain without any \"obstacles\" nearby (this means that the area should not be surrounded very closely by mountains or should not be located at the endge of a valley). The way we have calculated this is by looking at the squared area available to us for the wind farm. \n",
    "<br>\n",
    "\n",
    "Our research shows that the industry rule of thumb is as follows: the distance between a turbine and the nearest obstacle should be at least twice the turbine height, unless the turbine is more than twice the height of the obstacle in which case the distance can be less (we are not considering the second part due to added complexities). We have taken our wind turbine height to be 120m which means we want there to be aleast 0.5 sq km distance. \n",
    "\n",
    "#### Distance to Urban Setting \n",
    "In this parameters, we are considering some of the social constraints of "
   ]
  },
  {
   "cell_type": "code",
   "execution_count": null,
   "id": "0f4aaeef",
   "metadata": {},
   "outputs": [],
   "source": [
    "ref_df.drop(ref_df[ref_df['wind_speed'] < 9].index, inplace = True)\n",
    "ref_df.drop(ref_df[ref_df['area_sq_km'] < 0.5].index, inplace = True)\n",
    "ref_df.drop(ref_df[ref_df['distance_to_transmission_km'] < 0.015].index, inplace = True)"
   ]
  },
  {
   "cell_type": "markdown",
   "id": "e162d796",
   "metadata": {},
   "source": [
    "After our second phase of filtering we are working with the following list of potential location: "
   ]
  },
  {
   "cell_type": "code",
   "execution_count": null,
   "id": "35c07446",
   "metadata": {},
   "outputs": [],
   "source": [
    "print(ref_df.head()) \n",
    "print(ref_df.shape)"
   ]
  },
  {
   "cell_type": "markdown",
   "id": "66c5f655",
   "metadata": {},
   "source": [
    "### Monetary Based Parameters\n",
    "\n",
    "Lastly, to make our predictions more applicable we came up with a formula which can help calculate approximate cost of building a wind farm in a certain location. We have not made assumptions about what kind of budget is available to us which is why we have left this part as a future work for making our model more applicable instead of incorporating into our windmill location ranking system. \n",
    "<br>\n",
    "\n",
    "Our formula consists of the following parameters: \n",
    "<br>\n",
    "\n",
    "###### FCR = Fixed Charge Rate \n",
    "- The fraction of the Total Installed Cost that must be set aside each year to retire capital costs to cover the interest on debt, return on equity, etc.\n",
    "- For our purposes, we can assume this to be 7% or 0.07.\n",
    "<br> \n",
    "\n",
    "###### CE = Capital Expenditure \n",
    "- The initial upfront capital required for set up (basically the inital cost) \n",
    "<br>\n",
    "\n",
    "###### AEP = Net Annual Energy Production\n",
    "- Refers to the cost per kwH of energy generated. \n",
    "- Comes from the capacity factor \n",
    "<br> \n",
    "\n",
    "###### RC = Replacement Cost \n",
    "- RC = Cost of turbine / Expected life + other costs \n",
    "- Refers to all the sinking cost related to replacement and overhauls of the mechanical or other technological aspects of the windmill. \n",
    "<br> \n"
   ]
  },
  {
   "cell_type": "markdown",
   "id": "5ce3c67f",
   "metadata": {},
   "source": [
    "Based on the parameters written above we can develop the following equation: \n",
    "\n",
    "C = [(FCR x CE) / AEP] + [(RC) / AEP ]"
   ]
  },
  {
   "cell_type": "code",
   "execution_count": null,
   "id": "54ff8f50",
   "metadata": {},
   "outputs": [],
   "source": [
    "#150 meters away from an nearby obsturction\n",
    "#half a square km \n",
    "ref_df['generation_mwh'].sum()"
   ]
  },
  {
   "cell_type": "code",
   "execution_count": null,
   "id": "1c780423",
   "metadata": {},
   "outputs": [],
   "source": [
    "fig = plt.figure()\n",
    "ax1 = fig.add_subplot(111)\n",
    "\n",
    "ax1.scatter(copy_ref_df['longitude'], copy_ref_df['latitude'], s=8, c='tan')\n",
    "ax1.scatter(ref_df['longitude'], ref_df['latitude'], s=8, c=ref_df['capacity_factor'])\n",
    "plt.show()\n",
    "\n",
    "#copy_ref_df.plot(x=\"longitude\", y=\"latitude\", kind = 'scatter', figsize = (12,6))\n",
    "#ref_df.plot(x=\"longitude\", y=\"latitude\", kind=\"scatter\", c=\"capacity_factor\", colormap=\"YlGn\", figsize = (12,6))\n",
    "#plt.show()"
   ]
  },
  {
   "cell_type": "code",
   "execution_count": null,
   "id": "b0a406a8",
   "metadata": {},
   "outputs": [],
   "source": []
  }
 ],
 "metadata": {
  "kernelspec": {
   "display_name": "Python 3 (ipykernel)",
   "language": "python",
   "name": "python3"
  },
  "language_info": {
   "codemirror_mode": {
    "name": "ipython",
    "version": 3
   },
   "file_extension": ".py",
   "mimetype": "text/x-python",
   "name": "python",
   "nbconvert_exporter": "python",
   "pygments_lexer": "ipython3",
   "version": "3.8.13"
  }
 },
 "nbformat": 4,
 "nbformat_minor": 5
}
